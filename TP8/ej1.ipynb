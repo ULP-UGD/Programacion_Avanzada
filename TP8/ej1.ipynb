{
  "nbformat": 4,
  "nbformat_minor": 0,
  "metadata": {
    "colab": {
      "provenance": []
    },
    "kernelspec": {
      "name": "python3",
      "display_name": "Python 3"
    },
    "language_info": {
      "name": "python"
    }
  },
  "cells": [
    {
      "cell_type": "markdown",
      "source": [
        "Ejercicio 1\n",
        "Dada lista con los siguientes valores de ventas diarias de una tienda en una semana:\n",
        "ventas = [120, 150, 90, 200, 210, 130, 160], realiza las siguientes tareas:\n",
        "1. Crea una serie de Pandas con los días de la semana como índice  (asumiendo que el primer valor corresponde al Lunes)."
      ],
      "metadata": {
        "id": "MpzDAy87hXR4"
      }
    },
    {
      "source": [
        "import pandas as pd\n",
        "\n",
        "ventas = [120, 150, 90, 200, 210, 130, 160]\n",
        "dias_semana = ['Lunes', 'Martes', 'Miércoles', 'Jueves', 'Viernes', 'Sábado', 'Domingo']\n",
        "\n",
        "serie_ventas = pd.Series(ventas, index=dias_semana)"
      ],
      "cell_type": "code",
      "metadata": {
        "id": "r5blXVQfjyso"
      },
      "execution_count": null,
      "outputs": []
    },
    {
      "cell_type": "markdown",
      "source": [
        "2. Calcula y muestra la suma total de las ventas de la semana. Almacena este valor en una variable llamada: suma_total_ventas"
      ],
      "metadata": {
        "id": "2qS36Wsoj9QI"
      }
    },
    {
      "cell_type": "code",
      "source": [
        "suma_total_ventas = serie_ventas.sum()\n",
        "print(f\"Suma total de ventas: {suma_total_ventas}\")"
      ],
      "metadata": {
        "colab": {
          "base_uri": "https://localhost:8080/"
        },
        "id": "h5C2HvKIkJsg",
        "outputId": "570d815d-6de6-4eb8-9cd0-764db72cec31"
      },
      "execution_count": null,
      "outputs": [
        {
          "output_type": "stream",
          "name": "stdout",
          "text": [
            "Suma total de ventas: 1060\n"
          ]
        }
      ]
    },
    {
      "cell_type": "markdown",
      "source": [
        "3. Encuentra y muestra el día de mayores ventas. Almacena este valor en una variable llamada: dia_mayores_ventas"
      ],
      "metadata": {
        "id": "yoDmGhmLkKXQ"
      }
    },
    {
      "cell_type": "code",
      "source": [
        "dia_mayores_ventas = serie_ventas.idxmax()\n",
        "print(f\"Día de mayores ventas: {dia_mayores_ventas}\")"
      ],
      "metadata": {
        "colab": {
          "base_uri": "https://localhost:8080/"
        },
        "id": "T5M6GhNqkSTg",
        "outputId": "15c1f20e-751a-43d0-cac8-160377f05854"
      },
      "execution_count": null,
      "outputs": [
        {
          "output_type": "stream",
          "name": "stdout",
          "text": [
            "Día de mayores ventas: Viernes\n"
          ]
        }
      ]
    },
    {
      "cell_type": "markdown",
      "source": [
        "4. Calcula y muestra el promedio de ventas de la semana. Almacena este valor en una variable llamada: promedio_ventas"
      ],
      "metadata": {
        "id": "5pH-v9G6kRII"
      }
    },
    {
      "cell_type": "code",
      "source": [
        "promedio_ventas = serie_ventas.mean()\n",
        "print(f\"Promedio de ventas: {promedio_ventas}\")"
      ],
      "metadata": {
        "colab": {
          "base_uri": "https://localhost:8080/"
        },
        "id": "TU_q9vkEkTlo",
        "outputId": "875ea931-f7b1-4bf2-82ef-265e603a1a6c"
      },
      "execution_count": null,
      "outputs": [
        {
          "output_type": "stream",
          "name": "stdout",
          "text": [
            "Promedio de ventas: 151.42857142857142\n"
          ]
        }
      ]
    }
  ]
}